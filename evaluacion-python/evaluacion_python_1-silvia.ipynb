{
 "cells": [
  {
   "attachments": {},
   "cell_type": "markdown",
   "metadata": {},
   "source": [
    "**Métodos de *strings***\n",
    "\n",
    "Dado el siguiente *string* \n",
    "\n",
    "```python\n",
    "\n",
    "string = \"\"\"Hoy estamos en una clase de repaso,\n",
    "el objetivo es intentar solucionar todas vuestras dudas, \n",
    "preguntad todo lo que queráis! \n",
    "\"\"\"\n",
    "```\n",
    "\n",
    "\n",
    "Contesta a las siguientes preguntas: \n",
    "\n",
    "1️⃣ Crea dos variables nuevas: \n",
    "    - Una con el *string* en mayúsculas\n",
    "    - Otra con las letras en minúsculas\n",
    "\n",
    "2️⃣ Pon todas las primeras letras del *string* en mayúscula\n",
    "\n",
    "3️⃣ Separa el *string*  por los espacios y almacena el resultado en una lista llamanda `texto_lista`\n",
    "\n",
    "4️⃣ De la lista obtenida en el ejercicio anterior, selecciona solo los 5 primero elementos y almacena los resultados en una variable que se llame `texto_lista_corta` \n",
    "\n",
    "5️⃣ De la lista obtenida en el ejercicio 5. Vuelve a convertirlo en *string* \n",
    "\n",
    "6️⃣ Con el *string* obtenido en el paso anterior: \n",
    "\n",
    "    - Esta la palabra \"el\" en el *string* \n",
    "\n",
    "    - Reemplaza \"Hoy\" por nada\n",
    "\n",
    "    - El ejercicio anterior nos ha dejado espacios al inicio del string, eliminalos\n"
   ]
  },
  {
   "attachments": {},
   "cell_type": "markdown",
   "metadata": {},
   "source": [
    "1️⃣ Crea dos variables nuevas: \n",
    "    - Una con el *string* en mayúsculas\n",
    "    - Otra con las letras en minúsculas"
   ]
  },
  {
   "cell_type": "code",
   "execution_count": 1,
   "metadata": {},
   "outputs": [],
   "source": [
    "# Definimos el string.\n",
    "\n",
    "string = '''Hoy estamos en una clase de repaso,\n",
    "el objetivo es intentar solucionar todas vuestras dudas, \n",
    "preguntad todo lo que queráis!'''"
   ]
  },
  {
   "cell_type": "code",
   "execution_count": 2,
   "metadata": {},
   "outputs": [
    {
     "name": "stdout",
     "output_type": "stream",
     "text": [
      "El resultado de la primera variable es: HOY ESTAMOS EN UNA CLASE DE REPASO,\n",
      "EL OBJETIVO ES INTENTAR SOLUCIONAR TODAS VUESTRAS DUDAS, \n",
      "PREGUNTAD TODO LO QUE QUERÁIS!\n",
      "El resultado de la segunda variable es: hoy estamos en una clase de repaso,\n",
      "el objetivo es intentar solucionar todas vuestras dudas, \n",
      "preguntad todo lo que queráis!\n"
     ]
    }
   ],
   "source": [
    "# Creamos las variables nuevas\n",
    "\n",
    "string_mayus = string.upper()\n",
    "print(f'El resultado de la primera variable es: {string_mayus}')\n",
    "\n",
    "string_minus = string.lower()\n",
    "print(f'El resultado de la segunda variable es: {string_minus}')"
   ]
  },
  {
   "attachments": {},
   "cell_type": "markdown",
   "metadata": {},
   "source": [
    "2️⃣ Pon todas las primeras letras del *string* en mayúscula"
   ]
  },
  {
   "cell_type": "code",
   "execution_count": 3,
   "metadata": {},
   "outputs": [
    {
     "name": "stdout",
     "output_type": "stream",
     "text": [
      "El nuevo resultado es: Hoy Estamos En Una Clase De Repaso,\n",
      "El Objetivo Es Intentar Solucionar Todas Vuestras Dudas, \n",
      "Preguntad Todo Lo Que Queráis!\n"
     ]
    }
   ],
   "source": [
    "# Creamos una nueva variable para no modificar el string.\n",
    "\n",
    "string_title = string.title()\n",
    "print(f'El nuevo resultado es: {string_title}')"
   ]
  },
  {
   "attachments": {},
   "cell_type": "markdown",
   "metadata": {},
   "source": [
    "3️⃣ Separa el *string*  por los espacios y almacena el resultado en una lista llamanda `texto_lista`"
   ]
  },
  {
   "cell_type": "code",
   "execution_count": 4,
   "metadata": {},
   "outputs": [
    {
     "name": "stdout",
     "output_type": "stream",
     "text": [
      "<class 'list'>\n",
      "['Hoy', 'estamos', 'en', 'una', 'clase', 'de', 'repaso,\\nel', 'objetivo', 'es', 'intentar', 'solucionar', 'todas', 'vuestras', 'dudas,', '\\npreguntad', 'todo', 'lo', 'que', 'queráis!']\n"
     ]
    }
   ],
   "source": [
    "# Separamos el string con el método split, que nos devuelve una lista.\n",
    "texto_lista = string.split(' ')\n",
    "\n",
    "print(type(texto_lista))\n",
    "print(texto_lista)"
   ]
  },
  {
   "attachments": {},
   "cell_type": "markdown",
   "metadata": {},
   "source": [
    "4️⃣ De la lista obtenida en el ejercicio anterior, selecciona solo los 5 primero elementos y almacena los resultados en una variable que se llame `texto_lista_corta` "
   ]
  },
  {
   "cell_type": "code",
   "execution_count": 5,
   "metadata": {},
   "outputs": [
    {
     "name": "stdout",
     "output_type": "stream",
     "text": [
      "Estamos añadiendo el elemento 0: Hoy\n",
      ".........................................................\n",
      "Estamos añadiendo el elemento 1: estamos\n",
      ".........................................................\n",
      "Estamos añadiendo el elemento 2: en\n",
      ".........................................................\n",
      "Estamos añadiendo el elemento 3: una\n",
      ".........................................................\n",
      "Estamos añadiendo el elemento 4: clase\n",
      ".........................................................\n",
      "['Hoy', 'estamos', 'en', 'una', 'clase']\n"
     ]
    }
   ],
   "source": [
    "# Creamos una lista vacía y añadimos los 5 primeros valores (índices del 0 al 4) mediante un bucle for.\n",
    "\n",
    "texto_lista_corta = []\n",
    "\n",
    "for i in range(5):\n",
    "    texto_lista_corta.append(texto_lista[i])\n",
    "    print(f'Estamos añadiendo el elemento {i}: {texto_lista[i]}')\n",
    "    print('.........................................................')\n",
    "\n",
    "print(texto_lista_corta)"
   ]
  },
  {
   "attachments": {},
   "cell_type": "markdown",
   "metadata": {},
   "source": [
    "5️⃣ De la lista obtenida en el ejercicio 5. Vuelve a convertirlo en *string* "
   ]
  },
  {
   "cell_type": "code",
   "execution_count": 6,
   "metadata": {},
   "outputs": [
    {
     "name": "stdout",
     "output_type": "stream",
     "text": [
      "Hoy estamos en una clase\n",
      "<class 'str'>\n"
     ]
    }
   ],
   "source": [
    "texto_lista_corta_string = ' '.join(texto_lista_corta)\n",
    "\n",
    "print(texto_lista_corta_string)\n",
    "print(type(texto_lista_corta_string))"
   ]
  },
  {
   "cell_type": "markdown",
   "metadata": {},
   "source": [
    "6️⃣ Con el *string* obtenido en el paso anterior: \n",
    "\n",
    "    - Esta la palabra \"el\" en el *string* \n",
    "\n",
    "    - Reemplaza \"Hoy\" por nada\n",
    "\n",
    "    - El ejercicio anterior nos ha dejado espacios al inicio del string, eliminalos"
   ]
  },
  {
   "cell_type": "code",
   "execution_count": 15,
   "metadata": {},
   "outputs": [
    {
     "name": "stdout",
     "output_type": "stream",
     "text": [
      "¿Está la palabra el en el string? False\n",
      "   nada estamos en una clase\n",
      "nada estamos en una clase\n"
     ]
    }
   ],
   "source": [
    "# Esta la palabra el en el string.\n",
    "\n",
    "buscando_el = 'el' in texto_lista_corta_string\n",
    "print(f'¿Está la palabra el en el string? {buscando_el}')\n",
    "\n",
    "# Reemplaza 'Hoy' por nada (añadimos espacios para el ejercicio siguiente).\n",
    "texto_lista_nada = texto_lista_corta_string.replace('Hoy', '   nada')\n",
    "\n",
    "print(texto_lista_nada)\n",
    "\n",
    "# El ejercicio anterior nos ha dejador espacios al inicio del string, eliminalos.\n",
    "\n",
    "texto_lista_nada = texto_lista_nada.strip()\n",
    "print(texto_lista_nada)\n"
   ]
  },
  {
   "attachments": {},
   "cell_type": "markdown",
   "metadata": {},
   "source": [
    "**Encuentra el número que no está en la lista**\n",
    "\n",
    "Tenemos una lista desordenada con números positivos de 1 a n. Siempre faltará un sólo número de esta lista aleatoria, ¿cómo identifico cuál falta? Cread un programa para que este código devuelva los resultados deseados:\n",
    "\n",
    "```python\n",
    "lista1 = [3,7,1,2,8,4,5] # nos tiene que devolver 6\n",
    "lista2 = [4,6,1,3,5] #  nos tiene que devolver 2\n",
    "lista3 = [34,35,36,38,39,40] # nos tiene que devolver 37\n",
    "```\n",
    "\n",
    "BONUS: Introduce los resultados obtenidos en un diccionario, indicando que numero falta para cada una de las listas:\n",
    "```python\n",
    "# por ejemplo\n",
    "\n",
    "resultados = {'falta_lista_1': valor_numerico_1, 'falta_lista_2': valor_numerico_2, 'falta_lista_3': valor_numerico_3}\n",
    "```"
   ]
  },
  {
   "cell_type": "code",
   "execution_count": 16,
   "metadata": {},
   "outputs": [],
   "source": [
    "# Definimos las tres listas y el diccionario resultados para indicar qué numeros faltan\n",
    "lista1 = [3,7,1,2,8,4,5]\n",
    "lista2 = [4,6,1,3,5] \n",
    "lista3 = [34,35,36,38,39,40]\n",
    "\n",
    "resultados = {}"
   ]
  },
  {
   "cell_type": "code",
   "execution_count": 17,
   "metadata": {},
   "outputs": [
    {
     "name": "stdout",
     "output_type": "stream",
     "text": [
      "En la lista falta el número 6\n"
     ]
    }
   ],
   "source": [
    "# Creamos un bucle for para iterar por la lista en el rango entre su valor máximo y mínimo. Indicamos el valor que falta y lo añadimos\n",
    "# al diccionario resultados.\n",
    "\n",
    "for i in range(min(lista1), max(lista1)):\n",
    "    if i not in lista1:\n",
    "        print(f'En la lista falta el número {i}')\n",
    "        resultados['falta_lista_1'] = i"
   ]
  },
  {
   "cell_type": "code",
   "execution_count": 18,
   "metadata": {},
   "outputs": [
    {
     "name": "stdout",
     "output_type": "stream",
     "text": [
      "En la lista falta el número 2\n"
     ]
    }
   ],
   "source": [
    "for i in range(min(lista2), max(lista2)):\n",
    "    if i not in lista2:\n",
    "        print(f'En la lista falta el número {i}')\n",
    "        resultados['falta_lista_2'] = i"
   ]
  },
  {
   "cell_type": "code",
   "execution_count": 19,
   "metadata": {},
   "outputs": [
    {
     "name": "stdout",
     "output_type": "stream",
     "text": [
      "En la lista falta el número 37\n"
     ]
    }
   ],
   "source": [
    "for i in range(min(lista3), max(lista3)):\n",
    "    if i not in lista3:\n",
    "        print(f'En la lista falta el número {i}')\n",
    "        resultados['falta_lista_3'] = i"
   ]
  },
  {
   "cell_type": "code",
   "execution_count": 20,
   "metadata": {},
   "outputs": [
    {
     "name": "stdout",
     "output_type": "stream",
     "text": [
      "{'falta_lista_1': 6, 'falta_lista_2': 2, 'falta_lista_3': 37}\n"
     ]
    }
   ],
   "source": [
    "print(resultados)"
   ]
  },
  {
   "attachments": {},
   "cell_type": "markdown",
   "metadata": {},
   "source": [
    "**Mover los ceros a la izquierda**\n",
    "\n",
    "Nos dan un *string* con números aleatorios. Algunos de ellos son 0. Encuentra todos los ceros y ponlos al principio de la lista, manteniendo el orden de los demás números.\n",
    "\n",
    "Ejemplo:\n",
    "\n",
    "```python\n",
    "A = [1,10,88,0,59,63,0,20,0]\n",
    "\n",
    "# tiene que devolver\n",
    "[0, 0, 0, 1, 10, 88, 59, 63, 20]\n",
    "```"
   ]
  },
  {
   "cell_type": "code",
   "execution_count": 21,
   "metadata": {},
   "outputs": [],
   "source": [
    "# Definimos A\n",
    "\n",
    "A = [1,10,88,0,59,63,0,20,0]"
   ]
  },
  {
   "cell_type": "code",
   "execution_count": 22,
   "metadata": {},
   "outputs": [
    {
     "name": "stdout",
     "output_type": "stream",
     "text": [
      "[0, 0, 0, 1, 10, 88, 59, 63, 20]\n"
     ]
    }
   ],
   "source": [
    "# Creamos un bucle for que recorra la lista. Indicamos que en cada paso si encuentra un 0 elimine ese elemento de la lista e incluya un elemento\n",
    "# 0 en la primera posición.\n",
    "for i in range(len(A)):\n",
    "    if A[i] == 0:\n",
    "        A.pop(i)\n",
    "        A.insert(0,0)\n",
    "\n",
    "print(A)"
   ]
  },
  {
   "cell_type": "markdown",
   "metadata": {},
   "source": [
    "**Invertir palabras de una frase**\n",
    "\n",
    "Nos dan una frase en que quieren que las letras de cada palabra acaben teniendo el orden invertido, manteniendo el orden de las palabras.\n",
    "\n",
    "```python\n",
    "frase = 'Hola Ada'\n",
    "print(frase) # nos daría 'aloH adA'\n",
    "```"
   ]
  },
  {
   "cell_type": "code",
   "execution_count": 26,
   "metadata": {},
   "outputs": [
    {
     "name": "stdout",
     "output_type": "stream",
     "text": [
      "aloH adA\n"
     ]
    }
   ],
   "source": [
    "# Definimos la frase\n",
    "\n",
    "frase = 'Hola Ada'\n",
    "\n",
    "# La separamos en sus palabras por los espacios, obteniendo una lista.\n",
    "\n",
    "frase_separada = frase.split()\n",
    "\n",
    "# Invertimos el orden de las letras. Para ello creamos una nueva lista a la que añadimos los elementos iterables de la anterior \"saltando\" hacia\n",
    "# atrás para obtener la palabra al revés.\n",
    "\n",
    "frase_reversa = [i[::-1] for i in frase_separada]\n",
    "\n",
    "# Finalmente volvemos a definir la frase uniendo con espacios los elementos obtenidos en la lista anterior.\n",
    "\n",
    "frase= ' '.join(frase_reversa)\n",
    "\n",
    "print(frase)\n",
    "\n",
    "\n",
    "    "
   ]
  },
  {
   "attachments": {},
   "cell_type": "markdown",
   "metadata": {},
   "source": [
    "###  ¿Es un DNI valido?\n",
    "\n",
    "Los DNI españoles pueden ser:\n",
    "\n",
    "- NIF (Numero de Identificación Fiscal) - 8 numeros y una letra, o\n",
    "- NIE (Numero de Identificación de Extranjeros) - 1 letra, 7 numeros y 1 letra."
   ]
  },
  {
   "cell_type": "code",
   "execution_count": 27,
   "metadata": {},
   "outputs": [],
   "source": [
    "lista_dni = [\"X-1234567-Z\", \"X-1234567\", \"12345678-M\", \"1234567-T\", \"12345677\"] "
   ]
  },
  {
   "cell_type": "code",
   "execution_count": 28,
   "metadata": {},
   "outputs": [
    {
     "name": "stdout",
     "output_type": "stream",
     "text": [
      "El elemento X-1234567-Z es una identificación válida.\n",
      "Por favor, comprueba que has escrito bien tu identificador X-1234567.\n",
      "El elemento 12345678-M es una identificación válida.\n",
      "Por favor, comprueba que has escrito bien tu identificador 1234567-T.\n",
      "Por favor, comprueba que has escrito bien tu identificador 12345677.\n"
     ]
    }
   ],
   "source": [
    "# Los DNI tienen que tener 10 caracteres (8 números, una letra y un guión) y los NIE tienen que tener 11 caracteres (2 letras, 7 números, 2 guiones).\n",
    "\n",
    "# Podemos comprobar si el elemento tiene la longitud válida.\n",
    "\n",
    "for i in lista_dni:\n",
    "    if 9 < len(i) < 12:\n",
    "        print(f'El elemento {i} es una identificación válida.')\n",
    "    else:\n",
    "        print(f'Por favor, comprueba que has escrito bien tu identificador {i}.')"
   ]
  },
  {
   "cell_type": "code",
   "execution_count": 29,
   "metadata": {},
   "outputs": [
    {
     "name": "stdout",
     "output_type": "stream",
     "text": [
      "Tu identificador X-1234567-Z parece ser un NIE, por favor confirma que es correcto en la siguiente pantalla.\n",
      "Por favor, comprueba que has escrito bien tu identificador X-1234567, no parece ser un DNI o NIE válido.\n",
      "Tu identificador 12345678-M parece ser un DNI, por favor confirma que es correcto en la siguiente pantalla.\n",
      "Por favor, comprueba que has escrito bien tu identificador 1234567-T, no parece ser un DNI o NIE válido.\n",
      "Por favor, comprueba que has escrito bien tu identificador 12345677, no parece ser un DNI o NIE válido.\n"
     ]
    }
   ],
   "source": [
    "# También podemos indicar si es un DNI, un NIE o un error.\n",
    "\n",
    "for i in lista_dni:\n",
    "    if len(i) == 10:\n",
    "        print(f'Tu identificador {i} parece ser un DNI, por favor confirma que es correcto en la siguiente pantalla.')\n",
    "    elif len(i) == 11:\n",
    "        print(f'Tu identificador {i} parece ser un NIE, por favor confirma que es correcto en la siguiente pantalla.')\n",
    "    else:\n",
    "        print(f'Por favor, comprueba que has escrito bien tu identificador {i}, no parece ser un DNI o NIE válido.')"
   ]
  },
  {
   "attachments": {},
   "cell_type": "markdown",
   "metadata": {},
   "source": [
    "**BONUS: Encuentra los k números más cerca a X**\n",
    "\n",
    "\n",
    "Haz una programa que compare los contenidos de una lista a un número dado X. Queremos que nos devuelva los k números que son más parecidos al número dado.\n",
    "\n",
    "Ejemplo:\n",
    "```python\n",
    "L = [4, 19, -5, 100, 53, 43, 74, -83, 13.5, 26]\n",
    "# Dados los siguientes valores \n",
    "x =30\n",
    "k = 3 # el número de números que tendremos que buscar en la lista que se parecen a 30 \n",
    "# El output debería ser igual a [26, 19, 43]\n",
    "```"
   ]
  },
  {
   "cell_type": "code",
   "execution_count": 30,
   "metadata": {},
   "outputs": [
    {
     "name": "stdout",
     "output_type": "stream",
     "text": [
      "[4, 19, -5, 100, 53, 43, 74, -83, 13.5, 26]\n"
     ]
    }
   ],
   "source": [
    "# En primer lugar definimos la lista de números, x y k.\n",
    "\n",
    "L = [4, 19, -5, 100, 53, 43, 74, -83, 13.5, 26]\n",
    "x = 30\n",
    "k = 3\n",
    "print(L)\n"
   ]
  },
  {
   "cell_type": "code",
   "execution_count": 31,
   "metadata": {},
   "outputs": [
    {
     "name": "stdout",
     "output_type": "stream",
     "text": [
      "[-26, -11, -35, 70, 23, 13, 44, -113, -16.5, -4]\n",
      "[26, 11, 35, 70, 23, 13, 44, 113, 16.5, 4]\n"
     ]
    }
   ],
   "source": [
    "# A continuación calculamos la diferencia de esos valores con 30 y la almacenamos en una nueva lista.\n",
    "\n",
    "L_diff = [(i-x) for i in L]\n",
    "print(L_diff)\n",
    "# Calculamos la diferencia en valor absoluto\n",
    "\n",
    "L_diff_abs = [abs(i) for i in L_diff]\n",
    "\n",
    "print(L_diff_abs)\n"
   ]
  },
  {
   "cell_type": "code",
   "execution_count": 32,
   "metadata": {},
   "outputs": [
    {
     "name": "stdout",
     "output_type": "stream",
     "text": [
      "[4, 11, 13, 16.5, 23, 26, 35, 44, 70, 113]\n",
      "13\n"
     ]
    }
   ],
   "source": [
    "# Ordenamos las diferencias de menor a mayor. La tercera menor diferencia de valor sería la correspondiente al elemento de índice 2; en este caso\n",
    "# hemos definido la variable de distancia (k) y la podremos usar para buscar el índice, que será k -1.\n",
    "\n",
    "L_diff_abs.sort()\n",
    "print(L_diff_abs)\n",
    "\n",
    "print(L_diff_abs[k-1])"
   ]
  },
  {
   "cell_type": "code",
   "execution_count": 33,
   "metadata": {},
   "outputs": [
    {
     "name": "stdout",
     "output_type": "stream",
     "text": [
      "¡Vaya! Parece que tu número 4 está demasiado lejos, sigue intentándolo\n",
      "¡Vaya! Parece que tu número -5 está demasiado lejos, sigue intentándolo\n",
      "¡Vaya! Parece que tu número 100 está demasiado lejos, sigue intentándolo\n",
      "¡Vaya! Parece que tu número 53 está demasiado lejos, sigue intentándolo\n",
      "¡Vaya! Parece que tu número 74 está demasiado lejos, sigue intentándolo\n",
      "¡Vaya! Parece que tu número -83 está demasiado lejos, sigue intentándolo\n",
      "¡Vaya! Parece que tu número 13.5 está demasiado lejos, sigue intentándolo\n"
     ]
    }
   ],
   "source": [
    "numeros_cercanos= []\n",
    "\n",
    "for i in L:\n",
    "    if (abs(i -x)) <= L_diff_abs[k-1]:\n",
    "        numeros_cercanos.append(i)\n",
    "    else:\n",
    "        print(f'¡Vaya! Parece que tu número {i} está demasiado lejos, sigue intentándolo')\n"
   ]
  },
  {
   "cell_type": "code",
   "execution_count": 34,
   "metadata": {},
   "outputs": [
    {
     "name": "stdout",
     "output_type": "stream",
     "text": [
      "La lista de elementos cercanos a tu número 30 es : [19, 43, 26]\n"
     ]
    }
   ],
   "source": [
    "print(f'La lista de elementos cercanos a tu número {x} es : {numeros_cercanos}' )"
   ]
  }
 ],
 "metadata": {
  "kernelspec": {
   "display_name": "Python 3",
   "language": "python",
   "name": "python3"
  },
  "language_info": {
   "codemirror_mode": {
    "name": "ipython",
    "version": 3
   },
   "file_extension": ".py",
   "mimetype": "text/x-python",
   "name": "python",
   "nbconvert_exporter": "python",
   "pygments_lexer": "ipython3",
   "version": "3.9.7"
  },
  "orig_nbformat": 4,
  "vscode": {
   "interpreter": {
    "hash": "31f2aee4e71d21fbe5cf8b01ff0e069b9275f58929596ceb00d14d90e3e16cd6"
   }
  }
 },
 "nbformat": 4,
 "nbformat_minor": 2
}
